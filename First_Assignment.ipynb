{
 "cells": [
  {
   "cell_type": "code",
   "execution_count": 1,
   "metadata": {},
   "outputs": [],
   "source": [
    "import pandas as pd\n",
    "import numpy as np\n",
    "%matplotlib inline\n",
    "titles = pd.read_csv('data/titles.csv', index_col=None)"
   ]
  },
  {
   "cell_type": "markdown",
   "metadata": {},
   "source": [
    "**Reading the data and understanding what the data looks like**"
   ]
  },
  {
   "cell_type": "code",
   "execution_count": 2,
   "metadata": {
    "scrolled": true
   },
   "outputs": [
    {
     "data": {
      "text/html": [
       "<div>\n",
       "<style scoped>\n",
       "    .dataframe tbody tr th:only-of-type {\n",
       "        vertical-align: middle;\n",
       "    }\n",
       "\n",
       "    .dataframe tbody tr th {\n",
       "        vertical-align: top;\n",
       "    }\n",
       "\n",
       "    .dataframe thead th {\n",
       "        text-align: right;\n",
       "    }\n",
       "</style>\n",
       "<table border=\"1\" class=\"dataframe\">\n",
       "  <thead>\n",
       "    <tr style=\"text-align: right;\">\n",
       "      <th></th>\n",
       "      <th>title</th>\n",
       "      <th>year</th>\n",
       "    </tr>\n",
       "  </thead>\n",
       "  <tbody>\n",
       "    <tr>\n",
       "      <th>0</th>\n",
       "      <td>The Rising Son</td>\n",
       "      <td>1990</td>\n",
       "    </tr>\n",
       "    <tr>\n",
       "      <th>1</th>\n",
       "      <td>The Thousand Plane Raid</td>\n",
       "      <td>1969</td>\n",
       "    </tr>\n",
       "    <tr>\n",
       "      <th>2</th>\n",
       "      <td>Crucea de piatra</td>\n",
       "      <td>1993</td>\n",
       "    </tr>\n",
       "    <tr>\n",
       "      <th>3</th>\n",
       "      <td>Country</td>\n",
       "      <td>2000</td>\n",
       "    </tr>\n",
       "    <tr>\n",
       "      <th>4</th>\n",
       "      <td>Gaiking II</td>\n",
       "      <td>2011</td>\n",
       "    </tr>\n",
       "  </tbody>\n",
       "</table>\n",
       "</div>"
      ],
      "text/plain": [
       "                     title  year\n",
       "0           The Rising Son  1990\n",
       "1  The Thousand Plane Raid  1969\n",
       "2         Crucea de piatra  1993\n",
       "3                  Country  2000\n",
       "4               Gaiking II  2011"
      ]
     },
     "execution_count": 2,
     "metadata": {},
     "output_type": "execute_result"
    }
   ],
   "source": [
    "titles.head()"
   ]
  },
  {
   "cell_type": "code",
   "execution_count": 3,
   "metadata": {},
   "outputs": [
    {
     "data": {
      "text/plain": [
       "(232330, 2)"
      ]
     },
     "execution_count": 3,
     "metadata": {},
     "output_type": "execute_result"
    }
   ],
   "source": [
    "titles.shape"
   ]
  },
  {
   "cell_type": "code",
   "execution_count": 4,
   "metadata": {},
   "outputs": [],
   "source": [
    "cast = pd.read_csv('data/cast.zip', index_col=None)"
   ]
  },
  {
   "cell_type": "code",
   "execution_count": 5,
   "metadata": {},
   "outputs": [
    {
     "data": {
      "text/html": [
       "<div>\n",
       "<style scoped>\n",
       "    .dataframe tbody tr th:only-of-type {\n",
       "        vertical-align: middle;\n",
       "    }\n",
       "\n",
       "    .dataframe tbody tr th {\n",
       "        vertical-align: top;\n",
       "    }\n",
       "\n",
       "    .dataframe thead th {\n",
       "        text-align: right;\n",
       "    }\n",
       "</style>\n",
       "<table border=\"1\" class=\"dataframe\">\n",
       "  <thead>\n",
       "    <tr style=\"text-align: right;\">\n",
       "      <th></th>\n",
       "      <th>title</th>\n",
       "      <th>year</th>\n",
       "      <th>name</th>\n",
       "      <th>type</th>\n",
       "      <th>character</th>\n",
       "      <th>n</th>\n",
       "    </tr>\n",
       "  </thead>\n",
       "  <tbody>\n",
       "    <tr>\n",
       "      <th>0</th>\n",
       "      <td>Closet Monster</td>\n",
       "      <td>2015</td>\n",
       "      <td>Buffy #1</td>\n",
       "      <td>actor</td>\n",
       "      <td>Buffy 4</td>\n",
       "      <td>NaN</td>\n",
       "    </tr>\n",
       "    <tr>\n",
       "      <th>1</th>\n",
       "      <td>Suuri illusioni</td>\n",
       "      <td>1985</td>\n",
       "      <td>Homo $</td>\n",
       "      <td>actor</td>\n",
       "      <td>Guests</td>\n",
       "      <td>22.0</td>\n",
       "    </tr>\n",
       "    <tr>\n",
       "      <th>2</th>\n",
       "      <td>Battle of the Sexes</td>\n",
       "      <td>2017</td>\n",
       "      <td>$hutter</td>\n",
       "      <td>actor</td>\n",
       "      <td>Bobby Riggs Fan</td>\n",
       "      <td>10.0</td>\n",
       "    </tr>\n",
       "    <tr>\n",
       "      <th>3</th>\n",
       "      <td>Secret in Their Eyes</td>\n",
       "      <td>2015</td>\n",
       "      <td>$hutter</td>\n",
       "      <td>actor</td>\n",
       "      <td>2002 Dodger Fan</td>\n",
       "      <td>NaN</td>\n",
       "    </tr>\n",
       "    <tr>\n",
       "      <th>4</th>\n",
       "      <td>Steve Jobs</td>\n",
       "      <td>2015</td>\n",
       "      <td>$hutter</td>\n",
       "      <td>actor</td>\n",
       "      <td>1988 Opera House Patron</td>\n",
       "      <td>NaN</td>\n",
       "    </tr>\n",
       "  </tbody>\n",
       "</table>\n",
       "</div>"
      ],
      "text/plain": [
       "                  title  year      name   type                character     n\n",
       "0        Closet Monster  2015  Buffy #1  actor                  Buffy 4   NaN\n",
       "1       Suuri illusioni  1985    Homo $  actor                   Guests  22.0\n",
       "2   Battle of the Sexes  2017   $hutter  actor          Bobby Riggs Fan  10.0\n",
       "3  Secret in Their Eyes  2015   $hutter  actor          2002 Dodger Fan   NaN\n",
       "4            Steve Jobs  2015   $hutter  actor  1988 Opera House Patron   NaN"
      ]
     },
     "execution_count": 5,
     "metadata": {},
     "output_type": "execute_result"
    }
   ],
   "source": [
    "cast.head()"
   ]
  },
  {
   "cell_type": "code",
   "execution_count": 6,
   "metadata": {},
   "outputs": [
    {
     "data": {
      "text/plain": [
       "(3634467, 6)"
      ]
     },
     "execution_count": 6,
     "metadata": {},
     "output_type": "execute_result"
    }
   ],
   "source": [
    "cast.shape"
   ]
  },
  {
   "cell_type": "markdown",
   "metadata": {},
   "source": [
    "# This is my first individual Project:\n",
    "- I have imported the libraries known to me\n",
    "- Have also uploaded the data set.\n",
    "\n",
    "Below are the answers:\n",
    " \n"
   ]
  },
  {
   "cell_type": "markdown",
   "metadata": {},
   "source": [
    "# Q11: How many entries are there in the cast table?"
   ]
  },
  {
   "cell_type": "markdown",
   "metadata": {},
   "source": [
    "**Using the `shape` attribute to find the number of rows and columns**"
   ]
  },
  {
   "cell_type": "code",
   "execution_count": 7,
   "metadata": {},
   "outputs": [
    {
     "data": {
      "text/plain": [
       "(3634467, 6)"
      ]
     },
     "execution_count": 7,
     "metadata": {},
     "output_type": "execute_result"
    }
   ],
   "source": [
    "cast.shape"
   ]
  },
  {
   "cell_type": "markdown",
   "metadata": {},
   "source": [
    "# Q12: How many entries are there in the titles tablem"
   ]
  },
  {
   "cell_type": "code",
   "execution_count": 8,
   "metadata": {},
   "outputs": [
    {
     "data": {
      "text/plain": [
       "(232330, 2)"
      ]
     },
     "execution_count": 8,
     "metadata": {},
     "output_type": "execute_result"
    }
   ],
   "source": [
    "titles.shape"
   ]
  },
  {
   "cell_type": "markdown",
   "metadata": {},
   "source": [
    "# Q13: What are the two earliest movies?"
   ]
  },
  {
   "cell_type": "markdown",
   "metadata": {},
   "source": [
    "**Sorting both the tables by year and comparing them. Finally, answering with the earliest movies.**"
   ]
  },
  {
   "cell_type": "code",
   "execution_count": 9,
   "metadata": {},
   "outputs": [
    {
     "data": {
      "text/html": [
       "<div>\n",
       "<style scoped>\n",
       "    .dataframe tbody tr th:only-of-type {\n",
       "        vertical-align: middle;\n",
       "    }\n",
       "\n",
       "    .dataframe tbody tr th {\n",
       "        vertical-align: top;\n",
       "    }\n",
       "\n",
       "    .dataframe thead th {\n",
       "        text-align: right;\n",
       "    }\n",
       "</style>\n",
       "<table border=\"1\" class=\"dataframe\">\n",
       "  <thead>\n",
       "    <tr style=\"text-align: right;\">\n",
       "      <th></th>\n",
       "      <th>title</th>\n",
       "      <th>year</th>\n",
       "      <th>name</th>\n",
       "      <th>type</th>\n",
       "      <th>character</th>\n",
       "      <th>n</th>\n",
       "    </tr>\n",
       "  </thead>\n",
       "  <tbody>\n",
       "    <tr>\n",
       "      <th>467752</th>\n",
       "      <td>Miss Jerry</td>\n",
       "      <td>1894</td>\n",
       "      <td>William Courtenay</td>\n",
       "      <td>actor</td>\n",
       "      <td>Mr. Hamilton</td>\n",
       "      <td>NaN</td>\n",
       "    </tr>\n",
       "    <tr>\n",
       "      <th>2530280</th>\n",
       "      <td>Miss Jerry</td>\n",
       "      <td>1894</td>\n",
       "      <td>Blanche Bayliss</td>\n",
       "      <td>actress</td>\n",
       "      <td>Miss Geraldine Holbrook (Miss Jerry)</td>\n",
       "      <td>NaN</td>\n",
       "    </tr>\n",
       "    <tr>\n",
       "      <th>559348</th>\n",
       "      <td>Miss Jerry</td>\n",
       "      <td>1894</td>\n",
       "      <td>Chauncey Depew</td>\n",
       "      <td>actor</td>\n",
       "      <td>Himself - the Director of the New York Central...</td>\n",
       "      <td>NaN</td>\n",
       "    </tr>\n",
       "    <tr>\n",
       "      <th>1728821</th>\n",
       "      <td>Soldiers of the Cross</td>\n",
       "      <td>1900</td>\n",
       "      <td>Reg Perry</td>\n",
       "      <td>actor</td>\n",
       "      <td>Lion</td>\n",
       "      <td>NaN</td>\n",
       "    </tr>\n",
       "    <tr>\n",
       "      <th>1728670</th>\n",
       "      <td>Soldiers of the Cross</td>\n",
       "      <td>1900</td>\n",
       "      <td>Orrie Perry</td>\n",
       "      <td>actor</td>\n",
       "      <td>Lion</td>\n",
       "      <td>NaN</td>\n",
       "    </tr>\n",
       "  </tbody>\n",
       "</table>\n",
       "</div>"
      ],
      "text/plain": [
       "                         title  year               name     type  \\\n",
       "467752              Miss Jerry  1894  William Courtenay    actor   \n",
       "2530280             Miss Jerry  1894    Blanche Bayliss  actress   \n",
       "559348              Miss Jerry  1894     Chauncey Depew    actor   \n",
       "1728821  Soldiers of the Cross  1900          Reg Perry    actor   \n",
       "1728670  Soldiers of the Cross  1900        Orrie Perry    actor   \n",
       "\n",
       "                                                 character   n  \n",
       "467752                                        Mr. Hamilton NaN  \n",
       "2530280               Miss Geraldine Holbrook (Miss Jerry) NaN  \n",
       "559348   Himself - the Director of the New York Central... NaN  \n",
       "1728821                                               Lion NaN  \n",
       "1728670                                               Lion NaN  "
      ]
     },
     "execution_count": 9,
     "metadata": {},
     "output_type": "execute_result"
    }
   ],
   "source": [
    "cast.sort_values('year').head(5)"
   ]
  },
  {
   "cell_type": "code",
   "execution_count": 10,
   "metadata": {},
   "outputs": [
    {
     "data": {
      "text/html": [
       "<div>\n",
       "<style scoped>\n",
       "    .dataframe tbody tr th:only-of-type {\n",
       "        vertical-align: middle;\n",
       "    }\n",
       "\n",
       "    .dataframe tbody tr th {\n",
       "        vertical-align: top;\n",
       "    }\n",
       "\n",
       "    .dataframe thead th {\n",
       "        text-align: right;\n",
       "    }\n",
       "</style>\n",
       "<table border=\"1\" class=\"dataframe\">\n",
       "  <thead>\n",
       "    <tr style=\"text-align: right;\">\n",
       "      <th></th>\n",
       "      <th>title</th>\n",
       "      <th>year</th>\n",
       "    </tr>\n",
       "  </thead>\n",
       "  <tbody>\n",
       "    <tr>\n",
       "      <th>177757</th>\n",
       "      <td>Miss Jerry</td>\n",
       "      <td>1894</td>\n",
       "    </tr>\n",
       "    <tr>\n",
       "      <th>215272</th>\n",
       "      <td>The Startled Lover</td>\n",
       "      <td>1898</td>\n",
       "    </tr>\n",
       "  </tbody>\n",
       "</table>\n",
       "</div>"
      ],
      "text/plain": [
       "                     title  year\n",
       "177757          Miss Jerry  1894\n",
       "215272  The Startled Lover  1898"
      ]
     },
     "execution_count": 10,
     "metadata": {},
     "output_type": "execute_result"
    }
   ],
   "source": [
    "titles.sort_values('year').head(2)"
   ]
  },
  {
   "cell_type": "markdown",
   "metadata": {},
   "source": [
    "# Hence, the two earliest movies are :\n",
    "- Miss Jerry\n",
    "- The Startled Lover"
   ]
  },
  {
   "cell_type": "markdown",
   "metadata": {},
   "source": [
    "# Q14: How many movies have the title \"Hamlet\"?"
   ]
  },
  {
   "cell_type": "markdown",
   "metadata": {},
   "source": [
    "**Sorting the table with title and then counting the occurences of Hamlet**"
   ]
  },
  {
   "cell_type": "code",
   "execution_count": 11,
   "metadata": {},
   "outputs": [
    {
     "data": {
      "text/plain": [
       "18"
      ]
     },
     "execution_count": 11,
     "metadata": {},
     "output_type": "execute_result"
    }
   ],
   "source": [
    "titles['title'].value_counts().Hamlet"
   ]
  },
  {
   "cell_type": "markdown",
   "metadata": {},
   "source": [
    "# Q15: List all of the \"Treasure Island\" movies from earliest to most recent"
   ]
  },
  {
   "cell_type": "markdown",
   "metadata": {},
   "source": [
    "**I have used both the datasets for now. Will try to merge them**"
   ]
  },
  {
   "cell_type": "code",
   "execution_count": 12,
   "metadata": {},
   "outputs": [],
   "source": [
    "filtered_titles = titles[titles['title'] == 'Treasure Island'].copy()"
   ]
  },
  {
   "cell_type": "code",
   "execution_count": 13,
   "metadata": {},
   "outputs": [
    {
     "data": {
      "text/html": [
       "<div>\n",
       "<style scoped>\n",
       "    .dataframe tbody tr th:only-of-type {\n",
       "        vertical-align: middle;\n",
       "    }\n",
       "\n",
       "    .dataframe tbody tr th {\n",
       "        vertical-align: top;\n",
       "    }\n",
       "\n",
       "    .dataframe thead th {\n",
       "        text-align: right;\n",
       "    }\n",
       "</style>\n",
       "<table border=\"1\" class=\"dataframe\">\n",
       "  <thead>\n",
       "    <tr style=\"text-align: right;\">\n",
       "      <th></th>\n",
       "      <th>title</th>\n",
       "      <th>year</th>\n",
       "    </tr>\n",
       "  </thead>\n",
       "  <tbody>\n",
       "    <tr>\n",
       "      <th>51287</th>\n",
       "      <td>Treasure Island</td>\n",
       "      <td>1920</td>\n",
       "    </tr>\n",
       "    <tr>\n",
       "      <th>89534</th>\n",
       "      <td>Treasure Island</td>\n",
       "      <td>1972</td>\n",
       "    </tr>\n",
       "    <tr>\n",
       "      <th>96934</th>\n",
       "      <td>Treasure Island</td>\n",
       "      <td>1950</td>\n",
       "    </tr>\n",
       "    <tr>\n",
       "      <th>111343</th>\n",
       "      <td>Treasure Island</td>\n",
       "      <td>1973</td>\n",
       "    </tr>\n",
       "    <tr>\n",
       "      <th>179354</th>\n",
       "      <td>Treasure Island</td>\n",
       "      <td>1999</td>\n",
       "    </tr>\n",
       "    <tr>\n",
       "      <th>191050</th>\n",
       "      <td>Treasure Island</td>\n",
       "      <td>1934</td>\n",
       "    </tr>\n",
       "    <tr>\n",
       "      <th>205397</th>\n",
       "      <td>Treasure Island</td>\n",
       "      <td>1985</td>\n",
       "    </tr>\n",
       "    <tr>\n",
       "      <th>206027</th>\n",
       "      <td>Treasure Island</td>\n",
       "      <td>1918</td>\n",
       "    </tr>\n",
       "  </tbody>\n",
       "</table>\n",
       "</div>"
      ],
      "text/plain": [
       "                  title  year\n",
       "51287   Treasure Island  1920\n",
       "89534   Treasure Island  1972\n",
       "96934   Treasure Island  1950\n",
       "111343  Treasure Island  1973\n",
       "179354  Treasure Island  1999\n",
       "191050  Treasure Island  1934\n",
       "205397  Treasure Island  1985\n",
       "206027  Treasure Island  1918"
      ]
     },
     "execution_count": 13,
     "metadata": {},
     "output_type": "execute_result"
    }
   ],
   "source": [
    "filtered_titles"
   ]
  },
  {
   "cell_type": "code",
   "execution_count": 14,
   "metadata": {},
   "outputs": [
    {
     "data": {
      "text/html": [
       "<div>\n",
       "<style scoped>\n",
       "    .dataframe tbody tr th:only-of-type {\n",
       "        vertical-align: middle;\n",
       "    }\n",
       "\n",
       "    .dataframe tbody tr th {\n",
       "        vertical-align: top;\n",
       "    }\n",
       "\n",
       "    .dataframe thead th {\n",
       "        text-align: right;\n",
       "    }\n",
       "</style>\n",
       "<table border=\"1\" class=\"dataframe\">\n",
       "  <thead>\n",
       "    <tr style=\"text-align: right;\">\n",
       "      <th></th>\n",
       "      <th>title</th>\n",
       "      <th>year</th>\n",
       "      <th>name</th>\n",
       "      <th>type</th>\n",
       "      <th>character</th>\n",
       "      <th>n</th>\n",
       "    </tr>\n",
       "  </thead>\n",
       "  <tbody>\n",
       "    <tr>\n",
       "      <th>9504</th>\n",
       "      <td>Treasure Island</td>\n",
       "      <td>1934</td>\n",
       "      <td>Robert Adair</td>\n",
       "      <td>actor</td>\n",
       "      <td>Tom - Seaman</td>\n",
       "      <td>NaN</td>\n",
       "    </tr>\n",
       "    <tr>\n",
       "      <th>13354</th>\n",
       "      <td>Treasure Island</td>\n",
       "      <td>1950</td>\n",
       "      <td>Chris Adcock</td>\n",
       "      <td>actor</td>\n",
       "      <td>Pike</td>\n",
       "      <td>26.0</td>\n",
       "    </tr>\n",
       "    <tr>\n",
       "      <th>16365</th>\n",
       "      <td>Treasure Island</td>\n",
       "      <td>1985</td>\n",
       "      <td>Yves Afonso</td>\n",
       "      <td>actor</td>\n",
       "      <td>French captain</td>\n",
       "      <td>8.0</td>\n",
       "    </tr>\n",
       "    <tr>\n",
       "      <th>42317</th>\n",
       "      <td>Treasure Island</td>\n",
       "      <td>1972</td>\n",
       "      <td>Cristino Almod?var</td>\n",
       "      <td>actor</td>\n",
       "      <td>O'Brien</td>\n",
       "      <td>16.0</td>\n",
       "    </tr>\n",
       "    <tr>\n",
       "      <th>55437</th>\n",
       "      <td>Treasure Island</td>\n",
       "      <td>1934</td>\n",
       "      <td>John (XII) Anderson</td>\n",
       "      <td>actor</td>\n",
       "      <td>Pirate of the Spanish Main</td>\n",
       "      <td>18.0</td>\n",
       "    </tr>\n",
       "    <tr>\n",
       "      <th>56223</th>\n",
       "      <td>Treasure Island</td>\n",
       "      <td>1934</td>\n",
       "      <td>Robert (III) Anderson</td>\n",
       "      <td>actor</td>\n",
       "      <td>Pirate</td>\n",
       "      <td>NaN</td>\n",
       "    </tr>\n",
       "    <tr>\n",
       "      <th>77143</th>\n",
       "      <td>Treasure Island</td>\n",
       "      <td>1985</td>\n",
       "      <td>Pedro Armend?riz Jr.</td>\n",
       "      <td>actor</td>\n",
       "      <td>Mendoza</td>\n",
       "      <td>11.0</td>\n",
       "    </tr>\n",
       "    <tr>\n",
       "      <th>82621</th>\n",
       "      <td>Treasure Island</td>\n",
       "      <td>1950</td>\n",
       "      <td>Jack Arrow</td>\n",
       "      <td>actor</td>\n",
       "      <td>Norton</td>\n",
       "      <td>33.0</td>\n",
       "    </tr>\n",
       "    <tr>\n",
       "      <th>115669</th>\n",
       "      <td>Treasure Island</td>\n",
       "      <td>1999</td>\n",
       "      <td>Lance (II) Baker</td>\n",
       "      <td>actor</td>\n",
       "      <td>Frank</td>\n",
       "      <td>1.0</td>\n",
       "    </tr>\n",
       "    <tr>\n",
       "      <th>137834</th>\n",
       "      <td>Treasure Island</td>\n",
       "      <td>1972</td>\n",
       "      <td>Barta Barri</td>\n",
       "      <td>actor</td>\n",
       "      <td>Redruth</td>\n",
       "      <td>18.0</td>\n",
       "    </tr>\n",
       "    <tr>\n",
       "      <th>140476</th>\n",
       "      <td>Treasure Island</td>\n",
       "      <td>1934</td>\n",
       "      <td>Lionel Barrymore</td>\n",
       "      <td>actor</td>\n",
       "      <td>Billy Bones</td>\n",
       "      <td>3.0</td>\n",
       "    </tr>\n",
       "    <tr>\n",
       "      <th>147988</th>\n",
       "      <td>Treasure Island</td>\n",
       "      <td>1972</td>\n",
       "      <td>Rik Battaglia</td>\n",
       "      <td>actor</td>\n",
       "      <td>Captain Smollett</td>\n",
       "      <td>6.0</td>\n",
       "    </tr>\n",
       "    <tr>\n",
       "      <th>160501</th>\n",
       "      <td>Treasure Island</td>\n",
       "      <td>1934</td>\n",
       "      <td>Wallace Beery</td>\n",
       "      <td>actor</td>\n",
       "      <td>Long John Silver</td>\n",
       "      <td>1.0</td>\n",
       "    </tr>\n",
       "    <tr>\n",
       "      <th>171604</th>\n",
       "      <td>Treasure Island</td>\n",
       "      <td>1934</td>\n",
       "      <td>Wilson Benge</td>\n",
       "      <td>actor</td>\n",
       "      <td>Friend at Inn</td>\n",
       "      <td>NaN</td>\n",
       "    </tr>\n",
       "    <tr>\n",
       "      <th>173114</th>\n",
       "      <td>Treasure Island</td>\n",
       "      <td>1934</td>\n",
       "      <td>Bruce Bennett</td>\n",
       "      <td>actor</td>\n",
       "      <td>Man at Tavern</td>\n",
       "      <td>NaN</td>\n",
       "    </tr>\n",
       "    <tr>\n",
       "      <th>173180</th>\n",
       "      <td>Treasure Island</td>\n",
       "      <td>1934</td>\n",
       "      <td>Charles (II) Bennett</td>\n",
       "      <td>actor</td>\n",
       "      <td>Pirate of the Spanish Main</td>\n",
       "      <td>19.0</td>\n",
       "    </tr>\n",
       "    <tr>\n",
       "      <th>179204</th>\n",
       "      <td>Treasure Island</td>\n",
       "      <td>1934</td>\n",
       "      <td>Red Berger</td>\n",
       "      <td>actor</td>\n",
       "      <td>Pirate</td>\n",
       "      <td>NaN</td>\n",
       "    </tr>\n",
       "    <tr>\n",
       "      <th>205983</th>\n",
       "      <td>Treasure Island</td>\n",
       "      <td>1950</td>\n",
       "      <td>Andrew Blackett</td>\n",
       "      <td>actor</td>\n",
       "      <td>Gray</td>\n",
       "      <td>14.0</td>\n",
       "    </tr>\n",
       "    <tr>\n",
       "      <th>212010</th>\n",
       "      <td>Treasure Island</td>\n",
       "      <td>1999</td>\n",
       "      <td>Jonah Blechman</td>\n",
       "      <td>actor</td>\n",
       "      <td>The Body</td>\n",
       "      <td>3.0</td>\n",
       "    </tr>\n",
       "    <tr>\n",
       "      <th>222604</th>\n",
       "      <td>Treasure Island</td>\n",
       "      <td>1934</td>\n",
       "      <td>Robert Bolder</td>\n",
       "      <td>actor</td>\n",
       "      <td>Mild Man at Inn</td>\n",
       "      <td>NaN</td>\n",
       "    </tr>\n",
       "    <tr>\n",
       "      <th>249911</th>\n",
       "      <td>Treasure Island</td>\n",
       "      <td>1934</td>\n",
       "      <td>Ed (III) Brady</td>\n",
       "      <td>actor</td>\n",
       "      <td>Pirate</td>\n",
       "      <td>NaN</td>\n",
       "    </tr>\n",
       "    <tr>\n",
       "      <th>254191</th>\n",
       "      <td>Treasure Island</td>\n",
       "      <td>1950</td>\n",
       "      <td>Paddy Brannigan</td>\n",
       "      <td>actor</td>\n",
       "      <td>Hunter</td>\n",
       "      <td>32.0</td>\n",
       "    </tr>\n",
       "    <tr>\n",
       "      <th>258244</th>\n",
       "      <td>Treasure Island</td>\n",
       "      <td>1934</td>\n",
       "      <td>Edmund Breese</td>\n",
       "      <td>actor</td>\n",
       "      <td>Pirate of the Spanish Main</td>\n",
       "      <td>12.0</td>\n",
       "    </tr>\n",
       "    <tr>\n",
       "      <th>281983</th>\n",
       "      <td>Treasure Island</td>\n",
       "      <td>1934</td>\n",
       "      <td>Nigel Bruce</td>\n",
       "      <td>actor</td>\n",
       "      <td>Squire Trelawney</td>\n",
       "      <td>6.0</td>\n",
       "    </tr>\n",
       "    <tr>\n",
       "      <th>288429</th>\n",
       "      <td>Treasure Island</td>\n",
       "      <td>1950</td>\n",
       "      <td>Ken Buckle</td>\n",
       "      <td>actor</td>\n",
       "      <td>Joyce</td>\n",
       "      <td>31.0</td>\n",
       "    </tr>\n",
       "    <tr>\n",
       "      <th>294849</th>\n",
       "      <td>Treasure Island</td>\n",
       "      <td>1972</td>\n",
       "      <td>Kim Burfield</td>\n",
       "      <td>actor</td>\n",
       "      <td>Jim Hawkins</td>\n",
       "      <td>2.0</td>\n",
       "    </tr>\n",
       "    <tr>\n",
       "      <th>296401</th>\n",
       "      <td>Treasure Island</td>\n",
       "      <td>1934</td>\n",
       "      <td>James Burke</td>\n",
       "      <td>actor</td>\n",
       "      <td>Pirate of the Spanish Main</td>\n",
       "      <td>17.0</td>\n",
       "    </tr>\n",
       "    <tr>\n",
       "      <th>309653</th>\n",
       "      <td>Treasure Island</td>\n",
       "      <td>1999</td>\n",
       "      <td>Bob Byington</td>\n",
       "      <td>actor</td>\n",
       "      <td>Thomas</td>\n",
       "      <td>12.0</td>\n",
       "    </tr>\n",
       "    <tr>\n",
       "      <th>341353</th>\n",
       "      <td>Treasure Island</td>\n",
       "      <td>1918</td>\n",
       "      <td>Francis Carpenter</td>\n",
       "      <td>actor</td>\n",
       "      <td>Jim Hawkins</td>\n",
       "      <td>1.0</td>\n",
       "    </tr>\n",
       "    <tr>\n",
       "      <th>355680</th>\n",
       "      <td>Treasure Island</td>\n",
       "      <td>1985</td>\n",
       "      <td>Lou Castel</td>\n",
       "      <td>actor</td>\n",
       "      <td>Doctor</td>\n",
       "      <td>6.0</td>\n",
       "    </tr>\n",
       "    <tr>\n",
       "      <th>...</th>\n",
       "      <td>...</td>\n",
       "      <td>...</td>\n",
       "      <td>...</td>\n",
       "      <td>...</td>\n",
       "      <td>...</td>\n",
       "      <td>...</td>\n",
       "    </tr>\n",
       "    <tr>\n",
       "      <th>2371146</th>\n",
       "      <td>Treasure Island</td>\n",
       "      <td>1950</td>\n",
       "      <td>Geoffrey (II) Wilkinson</td>\n",
       "      <td>actor</td>\n",
       "      <td>Ben Gunn</td>\n",
       "      <td>9.0</td>\n",
       "    </tr>\n",
       "    <tr>\n",
       "      <th>2384928</th>\n",
       "      <td>Treasure Island</td>\n",
       "      <td>1934</td>\n",
       "      <td>Hal Wilson</td>\n",
       "      <td>actor</td>\n",
       "      <td>Oldster</td>\n",
       "      <td>NaN</td>\n",
       "    </tr>\n",
       "    <tr>\n",
       "      <th>2387478</th>\n",
       "      <td>Treasure Island</td>\n",
       "      <td>1934</td>\n",
       "      <td>Tom Wilson</td>\n",
       "      <td>actor</td>\n",
       "      <td>Pirate</td>\n",
       "      <td>NaN</td>\n",
       "    </tr>\n",
       "    <tr>\n",
       "      <th>2435225</th>\n",
       "      <td>Treasure Island</td>\n",
       "      <td>1999</td>\n",
       "      <td>Caveh Zahedi</td>\n",
       "      <td>actor</td>\n",
       "      <td>Harold</td>\n",
       "      <td>9.0</td>\n",
       "    </tr>\n",
       "    <tr>\n",
       "      <th>2471793</th>\n",
       "      <td>Treasure Island</td>\n",
       "      <td>1972</td>\n",
       "      <td>Alibe</td>\n",
       "      <td>actress</td>\n",
       "      <td>Mrs. Silver</td>\n",
       "      <td>12.0</td>\n",
       "    </tr>\n",
       "    <tr>\n",
       "      <th>2531491</th>\n",
       "      <td>Treasure Island</td>\n",
       "      <td>1934</td>\n",
       "      <td>Bernice Beatty</td>\n",
       "      <td>actress</td>\n",
       "      <td>Woman at Inn</td>\n",
       "      <td>NaN</td>\n",
       "    </tr>\n",
       "    <tr>\n",
       "      <th>2662660</th>\n",
       "      <td>Treasure Island</td>\n",
       "      <td>1934</td>\n",
       "      <td>Cora Sue Collins</td>\n",
       "      <td>actress</td>\n",
       "      <td>Young Girl at the Inn</td>\n",
       "      <td>NaN</td>\n",
       "    </tr>\n",
       "    <tr>\n",
       "      <th>2670896</th>\n",
       "      <td>Treasure Island</td>\n",
       "      <td>1918</td>\n",
       "      <td>Virginia Lee Corbin</td>\n",
       "      <td>actress</td>\n",
       "      <td>Louise Trelawney</td>\n",
       "      <td>2.0</td>\n",
       "    </tr>\n",
       "    <tr>\n",
       "      <th>2677286</th>\n",
       "      <td>Treasure Island</td>\n",
       "      <td>1999</td>\n",
       "      <td>Nigel (II) Cox</td>\n",
       "      <td>actress</td>\n",
       "      <td>Enid</td>\n",
       "      <td>22.0</td>\n",
       "    </tr>\n",
       "    <tr>\n",
       "      <th>2721188</th>\n",
       "      <td>Treasure Island</td>\n",
       "      <td>1934</td>\n",
       "      <td>Jill Dennett</td>\n",
       "      <td>actress</td>\n",
       "      <td>Streetwalker</td>\n",
       "      <td>NaN</td>\n",
       "    </tr>\n",
       "    <tr>\n",
       "      <th>2723756</th>\n",
       "      <td>Treasure Island</td>\n",
       "      <td>1934</td>\n",
       "      <td>Kay Deslys</td>\n",
       "      <td>actress</td>\n",
       "      <td>Streetwalker</td>\n",
       "      <td>NaN</td>\n",
       "    </tr>\n",
       "    <tr>\n",
       "      <th>2883412</th>\n",
       "      <td>Treasure Island</td>\n",
       "      <td>1999</td>\n",
       "      <td>Daisy Hall</td>\n",
       "      <td>actress</td>\n",
       "      <td>Penny</td>\n",
       "      <td>8.0</td>\n",
       "    </tr>\n",
       "    <tr>\n",
       "      <th>2950362</th>\n",
       "      <td>Treasure Island</td>\n",
       "      <td>1999</td>\n",
       "      <td>Stephanie Ittleson</td>\n",
       "      <td>actress</td>\n",
       "      <td>Stella</td>\n",
       "      <td>7.0</td>\n",
       "    </tr>\n",
       "    <tr>\n",
       "      <th>2986443</th>\n",
       "      <td>Treasure Island</td>\n",
       "      <td>1985</td>\n",
       "      <td>Anna Karina</td>\n",
       "      <td>actress</td>\n",
       "      <td>Mother</td>\n",
       "      <td>3.0</td>\n",
       "    </tr>\n",
       "    <tr>\n",
       "      <th>3008335</th>\n",
       "      <td>Treasure Island</td>\n",
       "      <td>1934</td>\n",
       "      <td>Edith Kingdon</td>\n",
       "      <td>actress</td>\n",
       "      <td>Wife at Inn</td>\n",
       "      <td>NaN</td>\n",
       "    </tr>\n",
       "    <tr>\n",
       "      <th>3136441</th>\n",
       "      <td>Treasure Island</td>\n",
       "      <td>1920</td>\n",
       "      <td>Shirley Mason</td>\n",
       "      <td>actress</td>\n",
       "      <td>Jim Hawkins</td>\n",
       "      <td>1.0</td>\n",
       "    </tr>\n",
       "    <tr>\n",
       "      <th>3162565</th>\n",
       "      <td>Treasure Island</td>\n",
       "      <td>1920</td>\n",
       "      <td>Josie Melville</td>\n",
       "      <td>actress</td>\n",
       "      <td>Mrs. Hawkins</td>\n",
       "      <td>2.0</td>\n",
       "    </tr>\n",
       "    <tr>\n",
       "      <th>3215969</th>\n",
       "      <td>Treasure Island</td>\n",
       "      <td>1999</td>\n",
       "      <td>Suzy Nakamura</td>\n",
       "      <td>actress</td>\n",
       "      <td>Yo-Ji</td>\n",
       "      <td>5.0</td>\n",
       "    </tr>\n",
       "    <tr>\n",
       "      <th>3265936</th>\n",
       "      <td>Treasure Island</td>\n",
       "      <td>1999</td>\n",
       "      <td>Lisa Papineau</td>\n",
       "      <td>actress</td>\n",
       "      <td>Diedre</td>\n",
       "      <td>19.0</td>\n",
       "    </tr>\n",
       "    <tr>\n",
       "      <th>3286432</th>\n",
       "      <td>Treasure Island</td>\n",
       "      <td>1934</td>\n",
       "      <td>Dorothy Peterson</td>\n",
       "      <td>actress</td>\n",
       "      <td>Mrs. Hawkins</td>\n",
       "      <td>10.0</td>\n",
       "    </tr>\n",
       "    <tr>\n",
       "      <th>3319417</th>\n",
       "      <td>Treasure Island</td>\n",
       "      <td>1918</td>\n",
       "      <td>Violet Radcliffe</td>\n",
       "      <td>actress</td>\n",
       "      <td>Long John Silver</td>\n",
       "      <td>3.0</td>\n",
       "    </tr>\n",
       "    <tr>\n",
       "      <th>3326506</th>\n",
       "      <td>Treasure Island</td>\n",
       "      <td>1934</td>\n",
       "      <td>Ethel Ransome</td>\n",
       "      <td>actress</td>\n",
       "      <td>Streetwalker</td>\n",
       "      <td>NaN</td>\n",
       "    </tr>\n",
       "    <tr>\n",
       "      <th>3359835</th>\n",
       "      <td>Treasure Island</td>\n",
       "      <td>1972</td>\n",
       "      <td>Maria Rohm</td>\n",
       "      <td>actress</td>\n",
       "      <td>Mrs. Hawkins</td>\n",
       "      <td>7.0</td>\n",
       "    </tr>\n",
       "    <tr>\n",
       "      <th>3424132</th>\n",
       "      <td>Treasure Island</td>\n",
       "      <td>1985</td>\n",
       "      <td>Sheila (II)</td>\n",
       "      <td>actress</td>\n",
       "      <td>Aunt</td>\n",
       "      <td>5.0</td>\n",
       "    </tr>\n",
       "    <tr>\n",
       "      <th>3436826</th>\n",
       "      <td>Treasure Island</td>\n",
       "      <td>1934</td>\n",
       "      <td>Shirley Simpson</td>\n",
       "      <td>actress</td>\n",
       "      <td>Woman Friend at Inn</td>\n",
       "      <td>NaN</td>\n",
       "    </tr>\n",
       "    <tr>\n",
       "      <th>3437828</th>\n",
       "      <td>Treasure Island</td>\n",
       "      <td>1999</td>\n",
       "      <td>Rachel Singer</td>\n",
       "      <td>actress</td>\n",
       "      <td>Anna</td>\n",
       "      <td>6.0</td>\n",
       "    </tr>\n",
       "    <tr>\n",
       "      <th>3493585</th>\n",
       "      <td>Treasure Island</td>\n",
       "      <td>1934</td>\n",
       "      <td>Jane Talent</td>\n",
       "      <td>actress</td>\n",
       "      <td>Streetwalker</td>\n",
       "      <td>NaN</td>\n",
       "    </tr>\n",
       "    <tr>\n",
       "      <th>3530088</th>\n",
       "      <td>Treasure Island</td>\n",
       "      <td>1999</td>\n",
       "      <td>Guinevere Turner</td>\n",
       "      <td>actress</td>\n",
       "      <td>Evelyn</td>\n",
       "      <td>14.0</td>\n",
       "    </tr>\n",
       "    <tr>\n",
       "      <th>3576112</th>\n",
       "      <td>Treasure Island</td>\n",
       "      <td>1918</td>\n",
       "      <td>Eleanor Washington</td>\n",
       "      <td>actress</td>\n",
       "      <td>Prologue Player</td>\n",
       "      <td>NaN</td>\n",
       "    </tr>\n",
       "    <tr>\n",
       "      <th>3579593</th>\n",
       "      <td>Treasure Island</td>\n",
       "      <td>1973</td>\n",
       "      <td>Jane Webb</td>\n",
       "      <td>actress</td>\n",
       "      <td>Mrs. Hawkins</td>\n",
       "      <td>6.0</td>\n",
       "    </tr>\n",
       "  </tbody>\n",
       "</table>\n",
       "<p>190 rows × 6 columns</p>\n",
       "</div>"
      ],
      "text/plain": [
       "                   title  year                     name     type  \\\n",
       "9504     Treasure Island  1934             Robert Adair    actor   \n",
       "13354    Treasure Island  1950             Chris Adcock    actor   \n",
       "16365    Treasure Island  1985              Yves Afonso    actor   \n",
       "42317    Treasure Island  1972       Cristino Almod?var    actor   \n",
       "55437    Treasure Island  1934      John (XII) Anderson    actor   \n",
       "56223    Treasure Island  1934    Robert (III) Anderson    actor   \n",
       "77143    Treasure Island  1985     Pedro Armend?riz Jr.    actor   \n",
       "82621    Treasure Island  1950               Jack Arrow    actor   \n",
       "115669   Treasure Island  1999         Lance (II) Baker    actor   \n",
       "137834   Treasure Island  1972              Barta Barri    actor   \n",
       "140476   Treasure Island  1934         Lionel Barrymore    actor   \n",
       "147988   Treasure Island  1972            Rik Battaglia    actor   \n",
       "160501   Treasure Island  1934            Wallace Beery    actor   \n",
       "171604   Treasure Island  1934             Wilson Benge    actor   \n",
       "173114   Treasure Island  1934            Bruce Bennett    actor   \n",
       "173180   Treasure Island  1934     Charles (II) Bennett    actor   \n",
       "179204   Treasure Island  1934               Red Berger    actor   \n",
       "205983   Treasure Island  1950          Andrew Blackett    actor   \n",
       "212010   Treasure Island  1999           Jonah Blechman    actor   \n",
       "222604   Treasure Island  1934            Robert Bolder    actor   \n",
       "249911   Treasure Island  1934           Ed (III) Brady    actor   \n",
       "254191   Treasure Island  1950          Paddy Brannigan    actor   \n",
       "258244   Treasure Island  1934            Edmund Breese    actor   \n",
       "281983   Treasure Island  1934              Nigel Bruce    actor   \n",
       "288429   Treasure Island  1950               Ken Buckle    actor   \n",
       "294849   Treasure Island  1972             Kim Burfield    actor   \n",
       "296401   Treasure Island  1934              James Burke    actor   \n",
       "309653   Treasure Island  1999             Bob Byington    actor   \n",
       "341353   Treasure Island  1918        Francis Carpenter    actor   \n",
       "355680   Treasure Island  1985               Lou Castel    actor   \n",
       "...                  ...   ...                      ...      ...   \n",
       "2371146  Treasure Island  1950  Geoffrey (II) Wilkinson    actor   \n",
       "2384928  Treasure Island  1934               Hal Wilson    actor   \n",
       "2387478  Treasure Island  1934               Tom Wilson    actor   \n",
       "2435225  Treasure Island  1999             Caveh Zahedi    actor   \n",
       "2471793  Treasure Island  1972                    Alibe  actress   \n",
       "2531491  Treasure Island  1934           Bernice Beatty  actress   \n",
       "2662660  Treasure Island  1934         Cora Sue Collins  actress   \n",
       "2670896  Treasure Island  1918      Virginia Lee Corbin  actress   \n",
       "2677286  Treasure Island  1999           Nigel (II) Cox  actress   \n",
       "2721188  Treasure Island  1934             Jill Dennett  actress   \n",
       "2723756  Treasure Island  1934               Kay Deslys  actress   \n",
       "2883412  Treasure Island  1999               Daisy Hall  actress   \n",
       "2950362  Treasure Island  1999       Stephanie Ittleson  actress   \n",
       "2986443  Treasure Island  1985              Anna Karina  actress   \n",
       "3008335  Treasure Island  1934            Edith Kingdon  actress   \n",
       "3136441  Treasure Island  1920            Shirley Mason  actress   \n",
       "3162565  Treasure Island  1920           Josie Melville  actress   \n",
       "3215969  Treasure Island  1999            Suzy Nakamura  actress   \n",
       "3265936  Treasure Island  1999            Lisa Papineau  actress   \n",
       "3286432  Treasure Island  1934         Dorothy Peterson  actress   \n",
       "3319417  Treasure Island  1918         Violet Radcliffe  actress   \n",
       "3326506  Treasure Island  1934            Ethel Ransome  actress   \n",
       "3359835  Treasure Island  1972               Maria Rohm  actress   \n",
       "3424132  Treasure Island  1985              Sheila (II)  actress   \n",
       "3436826  Treasure Island  1934          Shirley Simpson  actress   \n",
       "3437828  Treasure Island  1999            Rachel Singer  actress   \n",
       "3493585  Treasure Island  1934              Jane Talent  actress   \n",
       "3530088  Treasure Island  1999         Guinevere Turner  actress   \n",
       "3576112  Treasure Island  1918       Eleanor Washington  actress   \n",
       "3579593  Treasure Island  1973                Jane Webb  actress   \n",
       "\n",
       "                          character     n  \n",
       "9504                   Tom - Seaman   NaN  \n",
       "13354                          Pike  26.0  \n",
       "16365                French captain   8.0  \n",
       "42317                       O'Brien  16.0  \n",
       "55437    Pirate of the Spanish Main  18.0  \n",
       "56223                        Pirate   NaN  \n",
       "77143                       Mendoza  11.0  \n",
       "82621                        Norton  33.0  \n",
       "115669                        Frank   1.0  \n",
       "137834                      Redruth  18.0  \n",
       "140476                  Billy Bones   3.0  \n",
       "147988             Captain Smollett   6.0  \n",
       "160501             Long John Silver   1.0  \n",
       "171604                Friend at Inn   NaN  \n",
       "173114                Man at Tavern   NaN  \n",
       "173180   Pirate of the Spanish Main  19.0  \n",
       "179204                       Pirate   NaN  \n",
       "205983                         Gray  14.0  \n",
       "212010                     The Body   3.0  \n",
       "222604              Mild Man at Inn   NaN  \n",
       "249911                       Pirate   NaN  \n",
       "254191                       Hunter  32.0  \n",
       "258244   Pirate of the Spanish Main  12.0  \n",
       "281983             Squire Trelawney   6.0  \n",
       "288429                        Joyce  31.0  \n",
       "294849                  Jim Hawkins   2.0  \n",
       "296401   Pirate of the Spanish Main  17.0  \n",
       "309653                       Thomas  12.0  \n",
       "341353                  Jim Hawkins   1.0  \n",
       "355680                       Doctor   6.0  \n",
       "...                             ...   ...  \n",
       "2371146                    Ben Gunn   9.0  \n",
       "2384928                     Oldster   NaN  \n",
       "2387478                      Pirate   NaN  \n",
       "2435225                      Harold   9.0  \n",
       "2471793                 Mrs. Silver  12.0  \n",
       "2531491                Woman at Inn   NaN  \n",
       "2662660       Young Girl at the Inn   NaN  \n",
       "2670896            Louise Trelawney   2.0  \n",
       "2677286                        Enid  22.0  \n",
       "2721188                Streetwalker   NaN  \n",
       "2723756                Streetwalker   NaN  \n",
       "2883412                       Penny   8.0  \n",
       "2950362                      Stella   7.0  \n",
       "2986443                      Mother   3.0  \n",
       "3008335                 Wife at Inn   NaN  \n",
       "3136441                 Jim Hawkins   1.0  \n",
       "3162565                Mrs. Hawkins   2.0  \n",
       "3215969                       Yo-Ji   5.0  \n",
       "3265936                      Diedre  19.0  \n",
       "3286432                Mrs. Hawkins  10.0  \n",
       "3319417            Long John Silver   3.0  \n",
       "3326506                Streetwalker   NaN  \n",
       "3359835                Mrs. Hawkins   7.0  \n",
       "3424132                        Aunt   5.0  \n",
       "3436826         Woman Friend at Inn   NaN  \n",
       "3437828                        Anna   6.0  \n",
       "3493585                Streetwalker   NaN  \n",
       "3530088                      Evelyn  14.0  \n",
       "3576112             Prologue Player   NaN  \n",
       "3579593                Mrs. Hawkins   6.0  \n",
       "\n",
       "[190 rows x 6 columns]"
      ]
     },
     "execution_count": 14,
     "metadata": {},
     "output_type": "execute_result"
    }
   ],
   "source": [
    "filtered_cast = cast[cast['title'] == 'Treasure Island'].copy()\n",
    "filtered_cast"
   ]
  },
  {
   "cell_type": "markdown",
   "metadata": {},
   "source": [
    "# Q16: List the supporting roles (having n=2) played by Cary Grant in the 1940s, in order by year"
   ]
  },
  {
   "cell_type": "markdown",
   "metadata": {},
   "source": [
    "**I first created a filtered list with n = 2**"
   ]
  },
  {
   "cell_type": "code",
   "execution_count": 15,
   "metadata": {},
   "outputs": [],
   "source": [
    "filtered_cast = cast[cast['n'] == 2].copy()"
   ]
  },
  {
   "cell_type": "markdown",
   "metadata": {},
   "source": [
    "**Further filtered the list to include only movies by CG**"
   ]
  },
  {
   "cell_type": "code",
   "execution_count": 16,
   "metadata": {},
   "outputs": [],
   "source": [
    "CG_movies = filtered_cast[filtered_cast['name'] == 'Cary Grant']"
   ]
  },
  {
   "cell_type": "markdown",
   "metadata": {},
   "source": [
    "**Filtered the list further by making sure the movies are of 1940s whereby arriving at the answer**"
   ]
  },
  {
   "cell_type": "code",
   "execution_count": 17,
   "metadata": {},
   "outputs": [
    {
     "data": {
      "text/html": [
       "<div>\n",
       "<style scoped>\n",
       "    .dataframe tbody tr th:only-of-type {\n",
       "        vertical-align: middle;\n",
       "    }\n",
       "\n",
       "    .dataframe tbody tr th {\n",
       "        vertical-align: top;\n",
       "    }\n",
       "\n",
       "    .dataframe thead th {\n",
       "        text-align: right;\n",
       "    }\n",
       "</style>\n",
       "<table border=\"1\" class=\"dataframe\">\n",
       "  <thead>\n",
       "    <tr style=\"text-align: right;\">\n",
       "      <th></th>\n",
       "      <th>title</th>\n",
       "      <th>year</th>\n",
       "      <th>name</th>\n",
       "      <th>type</th>\n",
       "      <th>character</th>\n",
       "      <th>n</th>\n",
       "    </tr>\n",
       "  </thead>\n",
       "  <tbody>\n",
       "    <tr>\n",
       "      <th>845513</th>\n",
       "      <td>My Favorite Wife</td>\n",
       "      <td>1940</td>\n",
       "      <td>Cary Grant</td>\n",
       "      <td>actor</td>\n",
       "      <td>Nick Arden</td>\n",
       "      <td>2.0</td>\n",
       "    </tr>\n",
       "    <tr>\n",
       "      <th>845523</th>\n",
       "      <td>Penny Serenade</td>\n",
       "      <td>1941</td>\n",
       "      <td>Cary Grant</td>\n",
       "      <td>actor</td>\n",
       "      <td>Roger Adams</td>\n",
       "      <td>2.0</td>\n",
       "    </tr>\n",
       "  </tbody>\n",
       "</table>\n",
       "</div>"
      ],
      "text/plain": [
       "                   title  year        name   type    character    n\n",
       "845513  My Favorite Wife  1940  Cary Grant  actor   Nick Arden  2.0\n",
       "845523    Penny Serenade  1941  Cary Grant  actor  Roger Adams  2.0"
      ]
     },
     "execution_count": 17,
     "metadata": {},
     "output_type": "execute_result"
    }
   ],
   "source": [
    "CG_movies[(CG_movies['year'] >= 1940) & (CG_movies['year'] < 1950)]"
   ]
  },
  {
   "cell_type": "markdown",
   "metadata": {},
   "source": [
    "# Q17: What are the ten most common movie names of all time?"
   ]
  },
  {
   "cell_type": "code",
   "execution_count": 18,
   "metadata": {},
   "outputs": [
    {
     "data": {
      "text/plain": [
       "Hamlet                  18\n",
       "Carmen                  16\n",
       "Macbeth                 15\n",
       "Maya                    12\n",
       "The Outsider            12\n",
       "Freedom                 11\n",
       "The Three Musketeers    11\n",
       "Temptation              11\n",
       "Othello                 11\n",
       "Kismet                  11\n",
       "Name: title, dtype: int64"
      ]
     },
     "execution_count": 18,
     "metadata": {},
     "output_type": "execute_result"
    }
   ],
   "source": [
    "titles['title'].value_counts().head(10)"
   ]
  },
  {
   "cell_type": "code",
   "execution_count": 19,
   "metadata": {},
   "outputs": [
    {
     "data": {
      "text/plain": [
       "Around the World in Eighty Days       1298\n",
       "7 cajas                                689\n",
       "Thelma                                 580\n",
       "The Ten Commandments                   533\n",
       "The Eschatrilogy: Book of the Dead     517\n",
       "Catching Faith                         493\n",
       "The Dark Knight Rises                  453\n",
       "Welcome to Essex                       449\n",
       "The Buccaneer                          436\n",
       "Stuck on You                           436\n",
       "Name: title, dtype: int64"
      ]
     },
     "execution_count": 19,
     "metadata": {},
     "output_type": "execute_result"
    }
   ],
   "source": [
    "cast['title'].value_counts().head(10)"
   ]
  },
  {
   "cell_type": "markdown",
   "metadata": {},
   "source": [
    "# Q18: Plot the number of \"Hamlet\" films made each decade"
   ]
  },
  {
   "cell_type": "markdown",
   "metadata": {},
   "source": [
    "**I first created a filtered list with only hamlet movies. I also created a list of all decades**\n"
   ]
  },
  {
   "cell_type": "code",
   "execution_count": 20,
   "metadata": {},
   "outputs": [],
   "source": [
    "df_hamlet = cast[cast['title'] == 'Hamlet']\n",
    "bar=[1910,1920,1930,1940,1950,1960,1970,1980,1990,2000,2010,2020]"
   ]
  },
  {
   "cell_type": "markdown",
   "metadata": {},
   "source": [
    "**I then used `pd.cut` to find the number of movies for each decade and then used `bar` plot graph**"
   ]
  },
  {
   "cell_type": "code",
   "execution_count": 21,
   "metadata": {},
   "outputs": [
    {
     "data": {
      "text/plain": [
       "<matplotlib.axes._subplots.AxesSubplot at 0x171f4fb8a90>"
      ]
     },
     "execution_count": 21,
     "metadata": {},
     "output_type": "execute_result"
    },
    {
     "data": {
      "image/png": "[encoded data removed]",
      "text/plain": [
       "<Figure size 432x288 with 1 Axes>"
      ]
     },
     "metadata": {
      "needs_background": "light"
     },
     "output_type": "display_data"
    }
   ],
   "source": [
    "df_graph = pd.cut(df_hamlet['year'], bar)\n",
    "df_graph.value_counts().plot.bar()"
   ]
  },
  {
   "cell_type": "markdown",
   "metadata": {},
   "source": [
    "# Q19: Who are the 10 people most often credited as \"Herself\" in film history?\n"
   ]
  },
  {
   "cell_type": "code",
   "execution_count": 22,
   "metadata": {},
   "outputs": [
    {
     "data": {
      "text/html": [
       "<div>\n",
       "<style scoped>\n",
       "    .dataframe tbody tr th:only-of-type {\n",
       "        vertical-align: middle;\n",
       "    }\n",
       "\n",
       "    .dataframe tbody tr th {\n",
       "        vertical-align: top;\n",
       "    }\n",
       "\n",
       "    .dataframe thead th {\n",
       "        text-align: right;\n",
       "    }\n",
       "</style>\n",
       "<table border=\"1\" class=\"dataframe\">\n",
       "  <thead>\n",
       "    <tr style=\"text-align: right;\">\n",
       "      <th></th>\n",
       "      <th>title</th>\n",
       "      <th>year</th>\n",
       "      <th>name</th>\n",
       "      <th>type</th>\n",
       "      <th>character</th>\n",
       "      <th>n</th>\n",
       "    </tr>\n",
       "  </thead>\n",
       "  <tbody>\n",
       "    <tr>\n",
       "      <th>2455335</th>\n",
       "      <td>Night of the Demons</td>\n",
       "      <td>2009</td>\n",
       "      <td>Stefanie Oxmann Mcgaha \"Steff\"</td>\n",
       "      <td>actress</td>\n",
       "      <td>Goth raver</td>\n",
       "      <td>NaN</td>\n",
       "    </tr>\n",
       "    <tr>\n",
       "      <th>2455336</th>\n",
       "      <td>The Bad Lieutenant: Port of Call - New Orleans</td>\n",
       "      <td>2009</td>\n",
       "      <td>Stefanie Oxmann Mcgaha \"Steff\"</td>\n",
       "      <td>actress</td>\n",
       "      <td>Gambler</td>\n",
       "      <td>NaN</td>\n",
       "    </tr>\n",
       "    <tr>\n",
       "      <th>2455337</th>\n",
       "      <td>The Bad Lieutenant: Port of Call - New Orleans</td>\n",
       "      <td>2009</td>\n",
       "      <td>Stefanie Oxmann Mcgaha \"Steff\"</td>\n",
       "      <td>actress</td>\n",
       "      <td>Bar patron</td>\n",
       "      <td>NaN</td>\n",
       "    </tr>\n",
       "    <tr>\n",
       "      <th>2455338</th>\n",
       "      <td>A Woman of Distinction</td>\n",
       "      <td>1950</td>\n",
       "      <td>Lucienne &amp; Ashour</td>\n",
       "      <td>actress</td>\n",
       "      <td>Apache Dancers</td>\n",
       "      <td>NaN</td>\n",
       "    </tr>\n",
       "    <tr>\n",
       "      <th>2455339</th>\n",
       "      <td>Around the World</td>\n",
       "      <td>1943</td>\n",
       "      <td>Lucienne &amp; Ashour</td>\n",
       "      <td>actress</td>\n",
       "      <td>Apache Dancers</td>\n",
       "      <td>NaN</td>\n",
       "    </tr>\n",
       "  </tbody>\n",
       "</table>\n",
       "</div>"
      ],
      "text/plain": [
       "                                                  title  year  \\\n",
       "2455335                             Night of the Demons  2009   \n",
       "2455336  The Bad Lieutenant: Port of Call - New Orleans  2009   \n",
       "2455337  The Bad Lieutenant: Port of Call - New Orleans  2009   \n",
       "2455338                          A Woman of Distinction  1950   \n",
       "2455339                                Around the World  1943   \n",
       "\n",
       "                                   name     type       character   n  \n",
       "2455335  Stefanie Oxmann Mcgaha \"Steff\"  actress      Goth raver NaN  \n",
       "2455336  Stefanie Oxmann Mcgaha \"Steff\"  actress         Gambler NaN  \n",
       "2455337  Stefanie Oxmann Mcgaha \"Steff\"  actress      Bar patron NaN  \n",
       "2455338               Lucienne & Ashour  actress  Apache Dancers NaN  \n",
       "2455339               Lucienne & Ashour  actress  Apache Dancers NaN  "
      ]
     },
     "execution_count": 22,
     "metadata": {},
     "output_type": "execute_result"
    }
   ],
   "source": [
    "new_fcast = cast[cast['type']=='actress']\n",
    "new_fcast.head()"
   ]
  },
  {
   "cell_type": "code",
   "execution_count": 23,
   "metadata": {},
   "outputs": [],
   "source": [
    "final_fcast = new_fcast[new_fcast['character'] == new_fcast['name']]"
   ]
  },
  {
   "cell_type": "code",
   "execution_count": 24,
   "metadata": {},
   "outputs": [
    {
     "data": {
      "text/plain": [
       "Laverne Andrews         15\n",
       "Maxene Andrews          15\n",
       "Patty Andrews           10\n",
       "Matutina                 8\n",
       "Zsa Zsa Gabor            7\n",
       "The Andrews Sisters      7\n",
       "Lena Horne               7\n",
       "Connee Boswell           6\n",
       "Dorothy Lamour           6\n",
       "Frances Langford         6\n",
       "Judy Canova              6\n",
       "Carolina Cotton          6\n",
       "Whoopi Goldberg          6\n",
       "Hedda Hopper             6\n",
       "Cass Daley               5\n",
       "Rekha                    5\n",
       "Morgan Fairchild         5\n",
       "Louella Parsons          5\n",
       "Marisol                  4\n",
       "Sapna                    4\n",
       "Dinah Shore              4\n",
       "Mary Hart                4\n",
       "Hazel Scott              4\n",
       "Joan Rivers              4\n",
       "Gracie Allen             4\n",
       "Pamela Anderson          4\n",
       "Debbie Reynolds          4\n",
       "June Allyson             3\n",
       "Paris Hilton             3\n",
       "Jennifer Tilly           3\n",
       "                        ..\n",
       "Dot Allison              1\n",
       "Irene Castle             1\n",
       "Peekaboo Pointe          1\n",
       "Ada Leonard              1\n",
       "Rokiah                   1\n",
       "Lauren Ashley Autrey     1\n",
       "Anne Kornblut            1\n",
       "Dorota Maslowska         1\n",
       "Anna Q. Nilsson          1\n",
       "Melissa Rivers           1\n",
       "Carmen Mar?a Pascal      1\n",
       "Idalis DeLeon            1\n",
       "Thenmozhi                1\n",
       "Tiger Lilly              1\n",
       "Boriana Borisova         1\n",
       "Briana Mickelson         1\n",
       "Bootsie                  1\n",
       "Natsuko Yashiro          1\n",
       "Eileen Joyce             1\n",
       "Jui                      1\n",
       "Cherie Gil               1\n",
       "Viva                     1\n",
       "Katharine Hepburn        1\n",
       "Fran?oise Yip            1\n",
       "Christiane Jacquier      1\n",
       "Dee Turnell              1\n",
       "Sally Tomato             1\n",
       "Mait?n Montenegro        1\n",
       "Mary Healy               1\n",
       "Marcy McGuire            1\n",
       "Name: name, Length: 1624, dtype: int64"
      ]
     },
     "execution_count": 24,
     "metadata": {},
     "output_type": "execute_result"
    }
   ],
   "source": [
    "final_fcast['name'].value_counts()"
   ]
  },
  {
   "cell_type": "markdown",
   "metadata": {},
   "source": [
    "# Q20: What are the 10 most frequent roles that start with the word \"Science\"?"
   ]
  },
  {
   "cell_type": "code",
   "execution_count": 25,
   "metadata": {},
   "outputs": [],
   "source": [
    "new_rcast = cast['character']"
   ]
  },
  {
   "cell_type": "code",
   "execution_count": 26,
   "metadata": {},
   "outputs": [
    {
     "data": {
      "text/plain": [
       "0                    Buffy 4\n",
       "1                     Guests\n",
       "2            Bobby Riggs Fan\n",
       "3            2002 Dodger Fan\n",
       "4    1988 Opera House Patron\n",
       "Name: character, dtype: object"
      ]
     },
     "execution_count": 26,
     "metadata": {},
     "output_type": "execute_result"
    }
   ],
   "source": [
    "new_rcast.head()"
   ]
  },
  {
   "cell_type": "code",
   "execution_count": 27,
   "metadata": {},
   "outputs": [
    {
     "data": {
      "text/plain": [
       "'Buffy 4'"
      ]
     },
     "execution_count": 27,
     "metadata": {},
     "output_type": "execute_result"
    }
   ],
   "source": [
    "new_rcast[0]"
   ]
  },
  {
   "cell_type": "code",
   "execution_count": 34,
   "metadata": {},
   "outputs": [
    {
     "data": {
      "text/plain": [
       "Science Teacher              60\n",
       "Science Fair Student          9\n",
       "Science Student               9\n",
       "Science Fair Judge            6\n",
       "Science Club Member           5\n",
       "Science Reporter              5\n",
       "Science Kid                   5\n",
       "Science Promo Cadet           5\n",
       "Science                       4\n",
       "Science Officer               3\n",
       "Science Fair Kid              3\n",
       "Science Fair Teacher          3\n",
       "Science teacher               3\n",
       "Science Team Member           2\n",
       "Science Guy                   2\n",
       "Science Kid #1                2\n",
       "Science Fair Crowd Member     2\n",
       "Science Class Student         2\n",
       "Science Geek Teacher          1\n",
       "Science Instructor            1\n",
       "Science Monk                  1\n",
       "Science Fair Coordinator      1\n",
       "Science Officer Saline        1\n",
       "Science Team Elder            1\n",
       "Science Fair Judge #3         1\n",
       "Science Teacher Zombie        1\n",
       "Science Teacher Ga-hoo        1\n",
       "Science Assistant             1\n",
       "Science Nerd                  1\n",
       "Science Fair Attendee         1\n",
       "                             ..\n",
       "Science Tech #2               1\n",
       "Science Performer 2           1\n",
       "Science Fair Competition      1\n",
       "Science Engineer Student      1\n",
       "Science Tech #3               1\n",
       "Science Fair Judge #4         1\n",
       "Science Girl                  1\n",
       "Science Technician            1\n",
       "Science Performer 1           1\n",
       "Science Geek                  1\n",
       "Science Lab Guard             1\n",
       "Science Tech #1               1\n",
       "Science Fair Mom              1\n",
       "Science Apprentice            1\n",
       "Science Officer 0718          1\n",
       "Science Agency Director       1\n",
       "Science Date                  1\n",
       "Science professor             1\n",
       "Science Lecturer              1\n",
       "Science Fair Judge #2         1\n",
       "Science Tech #4               1\n",
       "Science Fair Judge #1         1\n",
       "Science Monk's Assistant      1\n",
       "Science lover                 1\n",
       "Science School Teacher        1\n",
       "Science Fair Plane Kid        1\n",
       "Science Fair Parent           1\n",
       "Science Officer Arks          1\n",
       "Science Fair Patron           1\n",
       "Science Voice Over            1\n",
       "Name: character, Length: 69, dtype: int64"
      ]
     },
     "execution_count": 34,
     "metadata": {},
     "output_type": "execute_result"
    }
   ],
   "source": [
    "new_rcast[new_rcast.str.startswith('Science')].value_counts()"
   ]
  },
  {
   "cell_type": "markdown",
   "metadata": {},
   "source": [
    "# Q21: How many leading (n=1) roles were available to actors, and how many to actresses, in the 1950s?"
   ]
  },
  {
   "cell_type": "markdown",
   "metadata": {},
   "source": [
    "**Separating n =1 for year 1950s**"
   ]
  },
  {
   "cell_type": "code",
   "execution_count": 29,
   "metadata": {},
   "outputs": [],
   "source": [
    "new_n1cast = cast[(cast['n']==1) & ((cast['year'] >= 1950) & (cast['year'] <1960))]"
   ]
  },
  {
   "cell_type": "markdown",
   "metadata": {},
   "source": [
    "**counting the lead roles by applying `value_counts` on type**"
   ]
  },
  {
   "cell_type": "code",
   "execution_count": 30,
   "metadata": {},
   "outputs": [
    {
     "data": {
      "text/plain": [
       "actor      6616\n",
       "actress    2965\n",
       "Name: type, dtype: int64"
      ]
     },
     "execution_count": 30,
     "metadata": {},
     "output_type": "execute_result"
    }
   ],
   "source": [
    "new_n1cast['type'].value_counts()"
   ]
  },
  {
   "cell_type": "markdown",
   "metadata": {},
   "source": [
    "# Q22: How many supporting (n=2) roles were available to actors,and how many to actresses, in the 1950s?"
   ]
  },
  {
   "cell_type": "markdown",
   "metadata": {},
   "source": [
    "**Separating n = 2 for year 1950s**"
   ]
  },
  {
   "cell_type": "code",
   "execution_count": 31,
   "metadata": {},
   "outputs": [],
   "source": [
    "new_n2cast = cast[(cast['n']==2) & ((cast['year'] >= 1950) & (cast['year'] <1960))]"
   ]
  },
  {
   "cell_type": "markdown",
   "metadata": {},
   "source": [
    "**counting the supporting roles by applying value_counts on type**"
   ]
  },
  {
   "cell_type": "code",
   "execution_count": 32,
   "metadata": {},
   "outputs": [
    {
     "data": {
      "text/plain": [
       "actor      4564\n",
       "actress    4556\n",
       "Name: type, dtype: int64"
      ]
     },
     "execution_count": 32,
     "metadata": {},
     "output_type": "execute_result"
    }
   ],
   "source": [
    "new_n2cast['type'].value_counts()"
   ]
  },
  {
   "cell_type": "markdown",
   "metadata": {},
   "source": [
    "# Q22: How many supporting (n=2) roles were available to actors,and how many to actresses, in the 1950s?"
   ]
  },
  {
   "cell_type": "markdown",
   "metadata": {},
   "source": [
    "** Yes, there seems to be a clear bias for casting males for leading roles. But the number of males and females for supporting cast is almost the same. **\n",
    "\n",
    "** Males were preferred over females for the lead roles**"
   ]
  },
  {
   "cell_type": "code",
   "execution_count": null,
   "metadata": {},
   "outputs": [],
   "source": []
  }
 ],
 "metadata": {
  "kernelspec": {
   "display_name": "Python 3",
   "language": "python",
   "name": "python3"
  },
  "language_info": {
   "codemirror_mode": {
    "name": "ipython",
    "version": 3
   },
   "file_extension": ".py",
   "mimetype": "text/x-python",
   "name": "python",
   "nbconvert_exporter": "python",
   "pygments_lexer": "ipython3",
   "version": "3.7.3"
  }
 },
 "nbformat": 4,
 "nbformat_minor": 2
}
